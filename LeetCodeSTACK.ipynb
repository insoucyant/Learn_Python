{
  "nbformat": 4,
  "nbformat_minor": 0,
  "metadata": {
    "colab": {
      "provenance": [],
      "authorship_tag": "ABX9TyP1CDpanRGJ3tlXDUQiaWng",
      "include_colab_link": true
    },
    "kernelspec": {
      "name": "python3",
      "display_name": "Python 3"
    },
    "language_info": {
      "name": "python"
    }
  },
  "cells": [
    {
      "cell_type": "markdown",
      "metadata": {
        "id": "view-in-github",
        "colab_type": "text"
      },
      "source": [
        "<a href=\"https://colab.research.google.com/github/insoucyant/Learn_Python/blob/master/LeetCodeSTACK.ipynb\" target=\"_parent\"><img src=\"https://colab.research.google.com/assets/colab-badge.svg\" alt=\"Open In Colab\"/></a>"
      ]
    },
    {
      "cell_type": "markdown",
      "source": [
        "# 20 Valid Parentheses\n",
        "Given a string s containing just the characters '(', ')', '{', '}', '[' and ']', determine if the input string is valid.\n",
        "\n",
        "An input string is valid if:\n",
        "\n",
        "Open brackets must be closed by the same type of brackets.\n",
        "Open brackets must be closed in the correct order.\n",
        "Every close bracket has a corresponding open bracket of the same type.\n",
        "\n"
      ],
      "metadata": {
        "id": "H95KoL1QGVa3"
      }
    },
    {
      "cell_type": "code",
      "source": [
        "def isValid(s):\n",
        "  hashmap = {\n",
        "      ')': '(',\n",
        "      '}': '{',\n",
        "      ']':'['\n",
        "  }\n",
        "  # In Python the easiest way to build a stack is to build an empty list.\n",
        "  # We 'append'  when we want to put something on the top of the stack. Right is top. Left is bottom.\n",
        "  # We use 'pop' when we want to remove something from the top of the stack. Pop removes the right most value.\n",
        "  # We are appending to the right (top), we are removing from the right (top).\n",
        "  # LIFO!\n",
        "  stk = []\n",
        "\n",
        "  for c in s:\n",
        "    if c not in hashmap: # This is Open Bracket\n",
        "      stk.append(c)\n",
        "    else: # This is a closing bracket\n",
        "      if not stk: # Nothing in the stack and yet we have a closing bracket so invalid\n",
        "        return False\n",
        "      else:\n",
        "        popped = stk.pop() # LIFO\n",
        "        if hashmap[c] != popped: # Not the corresponding opening closing\n",
        "          return False\n",
        "  return not stk # Stack should be empty with no dangling opening bracket left\n",
        "s = \"()\"\n",
        "print(isValid(s))\n",
        "s = \"()[]{}\"\n",
        "print(isValid(s))\n",
        "s = \"(]\"\n",
        "print(isValid(s))\n",
        "s = \"([])\"\n",
        "print(isValid(s))"
      ],
      "metadata": {
        "colab": {
          "base_uri": "https://localhost:8080/"
        },
        "id": "TKxdg2WBGVqP",
        "outputId": "2212c109-15c2-40af-92ed-ea20f864d162"
      },
      "execution_count": 7,
      "outputs": [
        {
          "output_type": "stream",
          "name": "stdout",
          "text": [
            "True\n",
            "True\n",
            "False\n",
            "True\n"
          ]
        }
      ]
    },
    {
      "cell_type": "markdown",
      "source": [
        "# 682 Baseball Game\n",
        "You are keeping the scores for a baseball game with strange rules. At the beginning of the game, you start with an empty record.\n",
        "\n",
        "You are given a list of strings operations, where operations[i] is the ith operation you must apply to the record and is one of the following:\n",
        "\n",
        "An integer x.\n",
        "Record a new score of x.\n",
        "'+'.\n",
        "Record a new score that is the sum of the previous two scores.\n",
        "'D'.\n",
        "Record a new score that is the double of the previous score.\n",
        "'C'.\n",
        "Invalidate the previous score, removing it from the record.\n",
        "Return the sum of all the scores on the record after applying all the operations.\n",
        "\n",
        "The test cases are generated such that the answer and all intermediate calculations fit in a 32-bit integer and that all operations are valid."
      ],
      "metadata": {
        "id": "ykVgWAD6jDb1"
      }
    },
    {
      "cell_type": "code",
      "source": [
        "def calPoints(operations):\n",
        "  stk = []\n",
        "  for op in operations:\n",
        "    if op == '+':\n",
        "      stk.append(stk[-1] + stk[-2])\n",
        "    elif op == 'D':\n",
        "      stk.append(stk[-1]*2)\n",
        "    elif op == 'C':\n",
        "      stk.pop()\n",
        "    else:\n",
        "      stk.append(int(op))\n",
        "  return sum(stk)\n",
        "\n",
        "ops = [\"5\",\"2\",\"C\",\"D\",\"+\"]\n",
        "print(calPoints(ops))\n",
        "ops = [\"1\",\"C\"]\n",
        "print(calPoints(ops))"
      ],
      "metadata": {
        "colab": {
          "base_uri": "https://localhost:8080/"
        },
        "id": "qP9j1XGXIGci",
        "outputId": "874f4b56-1d69-44ab-a109-b509543de327"
      },
      "execution_count": 5,
      "outputs": [
        {
          "output_type": "stream",
          "name": "stdout",
          "text": [
            "30\n",
            "0\n"
          ]
        }
      ]
    },
    {
      "cell_type": "code",
      "source": [],
      "metadata": {
        "id": "otN8xiUPlsJx"
      },
      "execution_count": null,
      "outputs": []
    }
  ]
}