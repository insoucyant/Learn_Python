{
  "nbformat": 4,
  "nbformat_minor": 0,
  "metadata": {
    "colab": {
      "provenance": [],
      "gpuType": "T4",
      "authorship_tag": "ABX9TyOxUSmHqAfR6eTQtjUYLKXf",
      "include_colab_link": true
    },
    "kernelspec": {
      "name": "python3",
      "display_name": "Python 3"
    },
    "language_info": {
      "name": "python"
    },
    "accelerator": "GPU"
  },
  "cells": [
    {
      "cell_type": "markdown",
      "metadata": {
        "id": "view-in-github",
        "colab_type": "text"
      },
      "source": [
        "<a href=\"https://colab.research.google.com/github/insoucyant/Learn_Python/blob/master/TorchBasics.ipynb\" target=\"_parent\"><img src=\"https://colab.research.google.com/assets/colab-badge.svg\" alt=\"Open In Colab\"/></a>"
      ]
    },
    {
      "cell_type": "code",
      "execution_count": null,
      "metadata": {
        "id": "kWhl9JUvBqPR"
      },
      "outputs": [],
      "source": []
    },
    {
      "cell_type": "markdown",
      "source": [
        "PyTorch is a deep learning framework and scientific computing package. The scientific computing aspect of PyTorch is primarily a result of PyTroch's tensor libraray and associated Tensor operations."
      ],
      "metadata": {
        "id": "-muecqW3XWyi"
      }
    },
    {
      "cell_type": "code",
      "source": [
        "import torch\n",
        "import numpy as np\n",
        "# !pip list"
      ],
      "metadata": {
        "id": "K6g1KVTCXW-I"
      },
      "execution_count": null,
      "outputs": []
    },
    {
      "cell_type": "markdown",
      "source": [
        "# Tensors\n",
        "* Tensors are the data structure of Deep Learning. The primary datastructure in PyTorch is torch.Tensor\n",
        "* Tensor is a multi-dimensional matrix (n-dimensional array) containing elements of a single data type.\n",
        "* Similar to Numpy Arrays but work better on GPU's\n",
        "* Default data type is float 32\n",
        "* More suitable for Deep Learning than numpy array\n",
        "* Keywords: arange, reshape, view, randn"
      ],
      "metadata": {
        "id": "17gGqxZfUgmI"
      }
    },
    {
      "cell_type": "markdown",
      "source": [
        "# Torch\n",
        "Torch is the core library and namespace that provide the fundamental building blocks for deep learning.  \n",
        "torch is the low level foundation upon which the higher level components of PyTorch, such as torch.nn (for neural network layers) and torch.optim (for optimizers), are built\n",
        "The main torch libraries/subpackages are:\n",
        "* *torch.nn* : &emsp; This subpackage provides modules for building neural network including\n",
        "* *torch.autograd* : &emsp;      **Automatic Differentiation**, automatically computes gradients for all operations on tensors.\n",
        "* *torch.nn.functional* : &emsp;\n",
        "* *torch.optim* : &emsp;\n",
        "* *torch.utils* : &emsp;\n",
        "* *torchvision* : &emsp;"
      ],
      "metadata": {
        "id": "JGibYhKdZjcV"
      }
    },
    {
      "cell_type": "code",
      "source": [
        "np1 =np.random.rand(3,4)\n",
        "print(np1)\n",
        "print(f'The Numpy data type is {np1.dtype}')\n",
        "tensor_2d = torch.randn(3,4)\n",
        "print(tensor_2d)\n",
        "print(f'The Numpy data type is {tensor_2d.dtype}')\n"
      ],
      "metadata": {
        "colab": {
          "base_uri": "https://localhost:8080/"
        },
        "id": "P3wxYfFeCCFK",
        "outputId": "97da9b62-f1a9-496e-dcc8-7f1965b23ca4"
      },
      "execution_count": null,
      "outputs": [
        {
          "output_type": "stream",
          "name": "stdout",
          "text": [
            "[[0.21303738 0.77657514 0.64104747 0.92779252]\n",
            " [0.25132811 0.5568206  0.39733164 0.80141154]\n",
            " [0.30793448 0.81171191 0.89547938 0.68055691]]\n",
            "The Numpy data type is float64\n",
            "tensor([[ 0.6623,  0.3676,  1.2984, -0.2266],\n",
            "        [-0.0864, -2.4531, -0.2122, -0.2220],\n",
            "        [ 0.8590, -1.8581, -0.4010,  0.5967]])\n",
            "The Numpy data type is torch.float32\n"
          ]
        }
      ]
    },
    {
      "cell_type": "code",
      "source": [
        "tensor_3d = torch.zeros(2,3,4)\n",
        "tensor_3d"
      ],
      "metadata": {
        "colab": {
          "base_uri": "https://localhost:8080/"
        },
        "id": "fT6znD54CDXj",
        "outputId": "753881da-41af-47c9-fbc1-d718939945d0"
      },
      "execution_count": null,
      "outputs": [
        {
          "output_type": "execute_result",
          "data": {
            "text/plain": [
              "tensor([[[0., 0., 0., 0.],\n",
              "         [0., 0., 0., 0.],\n",
              "         [0., 0., 0., 0.]],\n",
              "\n",
              "        [[0., 0., 0., 0.],\n",
              "         [0., 0., 0., 0.],\n",
              "         [0., 0., 0., 0.]]])"
            ]
          },
          "metadata": {},
          "execution_count": 4
        }
      ]
    },
    {
      "cell_type": "code",
      "source": [
        "# Create Tensor out of numpy array\n",
        "my_tensor = torch.tensor(np1)\n",
        "print(f'This tensors data type is {tensor_2d.dtype}')\n",
        "my_tensor"
      ],
      "metadata": {
        "colab": {
          "base_uri": "https://localhost:8080/"
        },
        "id": "P8s54kEqF5mO",
        "outputId": "12777939-299b-4343-bfd8-606c2cc4607e"
      },
      "execution_count": null,
      "outputs": [
        {
          "output_type": "stream",
          "name": "stdout",
          "text": [
            "This tensors data type is torch.float32\n"
          ]
        },
        {
          "output_type": "execute_result",
          "data": {
            "text/plain": [
              "tensor([[0.2130, 0.7766, 0.6410, 0.9278],\n",
              "        [0.2513, 0.5568, 0.3973, 0.8014],\n",
              "        [0.3079, 0.8117, 0.8955, 0.6806]], dtype=torch.float64)"
            ]
          },
          "metadata": {},
          "execution_count": 5
        }
      ]
    },
    {
      "cell_type": "markdown",
      "source": [
        "What is the difference between reshape and view in pytorch?"
      ],
      "metadata": {
        "id": "syG6bav54_EE"
      }
    },
    {
      "cell_type": "code",
      "source": [
        "# Arange, reshape, view\n",
        "my_torch = torch.arange(10)\n",
        "print(my_torch)\n",
        "my_torch = my_torch.reshape(2,5)\n",
        "print(my_torch)"
      ],
      "metadata": {
        "colab": {
          "base_uri": "https://localhost:8080/"
        },
        "id": "ZM4PiioKXNf5",
        "outputId": "bb7e87b0-090d-44d1-eca8-deb0a2548f92"
      },
      "execution_count": null,
      "outputs": [
        {
          "output_type": "stream",
          "name": "stdout",
          "text": [
            "tensor([0, 1, 2, 3, 4, 5, 6, 7, 8, 9])\n",
            "tensor([[0, 1, 2, 3, 4],\n",
            "        [5, 6, 7, 8, 9]])\n"
          ]
        }
      ]
    },
    {
      "cell_type": "code",
      "source": [
        "# Reshape if we do not know number of elements\n",
        "my_torch2 = torch.arange(10)\n",
        "print(my_torch2)\n",
        "my_torch2 = my_torch2.reshape(-1,5)\n",
        "print(my_torch2)\n",
        "my_torch2 = my_torch2.reshape(5,-1)\n",
        "print(my_torch2)\n",
        "# my_torch2 = my_torch2.reshape(3,-1)\n",
        "# print(my_torch2)"
      ],
      "metadata": {
        "colab": {
          "base_uri": "https://localhost:8080/"
        },
        "id": "FhvEAt9Yiqyi",
        "outputId": "7ab8becd-b617-4ed6-d4f4-e2722d641bd7"
      },
      "execution_count": null,
      "outputs": [
        {
          "output_type": "stream",
          "name": "stdout",
          "text": [
            "tensor([0, 1, 2, 3, 4, 5, 6, 7, 8, 9])\n",
            "tensor([[0, 1, 2, 3, 4],\n",
            "        [5, 6, 7, 8, 9]])\n",
            "tensor([[0, 1],\n",
            "        [2, 3],\n",
            "        [4, 5],\n",
            "        [6, 7],\n",
            "        [8, 9]])\n"
          ]
        }
      ]
    },
    {
      "cell_type": "code",
      "source": [
        "my_torch3 = torch.arange(10)\n",
        "my_torch4 = my_torch3.view(2,5)\n",
        "my_torch5 = torch.arange(10)\n",
        "my_torch6 = my_torch5.reshape(2,5)\n",
        "print(my_torch5)\n",
        "print(my_torch6)"
      ],
      "metadata": {
        "colab": {
          "base_uri": "https://localhost:8080/"
        },
        "id": "TgC0u5LSjKRS",
        "outputId": "7cd3542a-e392-4cd6-c41b-e93de55f1555"
      },
      "execution_count": null,
      "outputs": [
        {
          "output_type": "stream",
          "name": "stdout",
          "text": [
            "tensor([0, 1, 2, 3, 4, 5, 6, 7, 8, 9])\n",
            "tensor([[0, 1, 2, 3, 4],\n",
            "        [5, 6, 7, 8, 9]])\n"
          ]
        }
      ]
    },
    {
      "cell_type": "code",
      "source": [
        "my_torch5[1] = 9999\n",
        "print(my_torch5)\n",
        "print(my_torch6)\n",
        "my_torch3[1] = 7777\n",
        "print(my_torch3)\n",
        "print(my_torch4)"
      ],
      "metadata": {
        "colab": {
          "base_uri": "https://localhost:8080/"
        },
        "id": "gy6TY_w95dgw",
        "outputId": "0d23ffed-4860-42ff-e131-b73094023a49"
      },
      "execution_count": null,
      "outputs": [
        {
          "output_type": "stream",
          "name": "stdout",
          "text": [
            "tensor([   0, 9999,    2,    3,    4,    5,    6,    7,    8,    9])\n",
            "tensor([[   0, 9999,    2,    3,    4],\n",
            "        [   5,    6,    7,    8,    9]])\n",
            "tensor([   0, 7777,    2,    3,    4,    5,    6,    7,    8,    9])\n",
            "tensor([[   0, 7777,    2,    3,    4],\n",
            "        [   5,    6,    7,    8,    9]])\n"
          ]
        }
      ]
    },
    {
      "cell_type": "markdown",
      "source": [
        "Bot view and reshape refelct the change at the source"
      ],
      "metadata": {
        "id": "BHxjnjBD6c71"
      }
    },
    {
      "cell_type": "markdown",
      "source": [
        "#### Slicing"
      ],
      "metadata": {
        "id": "ai-B-V7q7-oZ"
      }
    },
    {
      "cell_type": "code",
      "source": [
        "my_torch7 = torch.arange(10)\n",
        "print(my_torch7[7])\n",
        "my_torch8 = my_torch7.reshape(5,2)\n",
        "print(my_torch8[:,1])\n",
        "# Return teh column and keep the shape\n",
        "print(my_torch8[:,1:])"
      ],
      "metadata": {
        "colab": {
          "base_uri": "https://localhost:8080/"
        },
        "id": "M7k5QQaX6N81",
        "outputId": "34e2c35c-b158-421d-d119-4ebee7c52c25"
      },
      "execution_count": null,
      "outputs": [
        {
          "output_type": "stream",
          "name": "stdout",
          "text": [
            "tensor(7)\n",
            "tensor([1, 3, 5, 7, 9])\n",
            "tensor([[1],\n",
            "        [3],\n",
            "        [5],\n",
            "        [7],\n",
            "        [9]])\n"
          ]
        }
      ]
    },
    {
      "cell_type": "markdown",
      "source": [
        "# Tensor Math Operations\n",
        "* Add, Subtract, Multiply, Divide, Remainders, Exponents\n",
        "* Shorthand and Longhand\n",
        "* Reassignment"
      ],
      "metadata": {
        "id": "NZJR3JDf8wnU"
      }
    },
    {
      "cell_type": "code",
      "source": [],
      "metadata": {
        "id": "MaG42Eb18Hmy"
      },
      "execution_count": null,
      "outputs": []
    },
    {
      "cell_type": "code",
      "source": [],
      "metadata": {
        "id": "6g7CHYFSa8wq"
      },
      "execution_count": null,
      "outputs": []
    },
    {
      "cell_type": "code",
      "source": [],
      "metadata": {
        "id": "MDGQn2vga84u"
      },
      "execution_count": null,
      "outputs": []
    },
    {
      "cell_type": "markdown",
      "source": [
        "# Reference\n",
        "* https://deeplizard.com/learn/video/iTKbyFh-7GM"
      ],
      "metadata": {
        "id": "OjjlbM9-a9C2"
      }
    },
    {
      "cell_type": "code",
      "source": [],
      "metadata": {
        "id": "RFANhpM4a_TH"
      },
      "execution_count": null,
      "outputs": []
    }
  ]
}