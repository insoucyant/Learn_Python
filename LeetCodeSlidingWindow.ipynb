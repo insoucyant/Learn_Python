{
  "nbformat": 4,
  "nbformat_minor": 0,
  "metadata": {
    "colab": {
      "provenance": [],
      "authorship_tag": "ABX9TyOum448D3EtlI5RAeJISfv6",
      "include_colab_link": true
    },
    "kernelspec": {
      "name": "python3",
      "display_name": "Python 3"
    },
    "language_info": {
      "name": "python"
    }
  },
  "cells": [
    {
      "cell_type": "markdown",
      "metadata": {
        "id": "view-in-github",
        "colab_type": "text"
      },
      "source": [
        "<a href=\"https://colab.research.google.com/github/insoucyant/Learn_Python/blob/master/LeetCodeSlidingWindow.ipynb\" target=\"_parent\"><img src=\"https://colab.research.google.com/assets/colab-badge.svg\" alt=\"Open In Colab\"/></a>"
      ]
    },
    {
      "cell_type": "code",
      "execution_count": null,
      "metadata": {
        "id": "5gjs_214DynH"
      },
      "outputs": [],
      "source": []
    },
    {
      "cell_type": "markdown",
      "source": [
        "# Sliding Window Questions\n",
        "* (121) Best time to buy and sell stocks\n",
        "* (3) Longest substring without repeating characters\n",
        "* (424) Longest repeating character elements\n",
        "* (567) Permutation in string\n",
        "* Minimum window substring\n",
        "* Sliding window maximum"
      ],
      "metadata": {
        "id": "yJnavNpSD1eR"
      }
    },
    {
      "cell_type": "markdown",
      "source": [
        "## Best time to buy and sell stocks (121)"
      ],
      "metadata": {
        "id": "ylG8MQ0QD1nT"
      }
    },
    {
      "cell_type": "code",
      "source": [],
      "metadata": {
        "id": "-VTE6bMSEZPA"
      },
      "execution_count": null,
      "outputs": []
    },
    {
      "cell_type": "markdown",
      "source": [
        "# Permutation in String (567)\n",
        "Given two strings s1 and s2, return true if s2 contains a\n",
        "\n",
        "of s1, or false otherwise.\n",
        "\n",
        "In other words, return true if one of s1's permutations is the substring of s2.\n",
        "\n",
        "\n",
        "\n",
        "Example 1:\n",
        "\n",
        "Input: s1 = \"ab\", s2 = \"eidbaooo\"\n",
        "Output: true\n",
        "Explanation: s2 contains one permutation of s1 (\"ba\").\n",
        "\n",
        "Example 2:\n",
        "\n",
        "Input: s1 = \"ab\", s2 = \"eidboaoo\"\n",
        "Output: false\n",
        "\n",
        "\n",
        "\n",
        "Constraints:\n",
        "\n",
        "    1 <= s1.length, s2.length <= 104\n",
        "    s1 and s2 consist of lowercase English letters.\n"
      ],
      "metadata": {
        "id": "7TLx0UtYEaJI"
      }
    },
    {
      "cell_type": "code",
      "source": [
        "def checkInclusion(s1: str, s2: str) -> bool:\n",
        "        n1 = len(s1)\n",
        "        n2 = len(s2)\n",
        "\n",
        "        if n1 > n2:\n",
        "            return False\n",
        "\n",
        "        s1_counts = [0]*26\n",
        "        s2_counts = [0]*26\n",
        "\n",
        "        for i in range(n1):\n",
        "            s1_counts[(ord(s1[i])-97)] += 1\n",
        "            s2_counts[(ord(s2[i])-97)] += 1\n",
        "\n",
        "        if s1_counts == s2_counts:\n",
        "            return True\n",
        "\n",
        "        for i in range(n1,n2):\n",
        "            s2_counts[(ord(s2[i])-97)] += 1\n",
        "            s2_counts[((ord(s2[i-n1]))-97)] -= 1\n",
        "            if s1_counts == s2_counts:\n",
        "                return True\n",
        "\n",
        "        return False\n",
        "s1 = \"ab\"\n",
        "s2 = \"eidbaooo\"\n",
        "print(checkInclusion(s1,s2))\n",
        "s1 = \"ab\"\n",
        "s2 = \"eidboaoo\"\n",
        "print(checkInclusion(s1,s2))"
      ],
      "metadata": {
        "colab": {
          "base_uri": "https://localhost:8080/"
        },
        "id": "jW3PT5bBEs0t",
        "outputId": "6630121e-b3df-4d60-9935-2dfc9c4fdb29"
      },
      "execution_count": 3,
      "outputs": [
        {
          "output_type": "stream",
          "name": "stdout",
          "text": [
            "True\n",
            "False\n"
          ]
        }
      ]
    },
    {
      "cell_type": "code",
      "source": [],
      "metadata": {
        "id": "25Ia7F4KE5A9"
      },
      "execution_count": null,
      "outputs": []
    }
  ]
}