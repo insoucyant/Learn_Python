{
  "nbformat": 4,
  "nbformat_minor": 0,
  "metadata": {
    "colab": {
      "provenance": [],
      "gpuType": "T4",
      "authorship_tag": "ABX9TyMJkIHZfEGs78tzIa/NnDrb",
      "include_colab_link": true
    },
    "kernelspec": {
      "name": "python3",
      "display_name": "Python 3"
    },
    "language_info": {
      "name": "python"
    },
    "accelerator": "GPU"
  },
  "cells": [
    {
      "cell_type": "markdown",
      "metadata": {
        "id": "view-in-github",
        "colab_type": "text"
      },
      "source": [
        "<a href=\"https://colab.research.google.com/github/insoucyant/Learn_Python/blob/master/1Torch.ipynb\" target=\"_parent\"><img src=\"https://colab.research.google.com/assets/colab-badge.svg\" alt=\"Open In Colab\"/></a>"
      ]
    },
    {
      "cell_type": "code",
      "execution_count": 4,
      "metadata": {
        "id": "kWhl9JUvBqPR"
      },
      "outputs": [],
      "source": [
        "import torch\n",
        "import numpy as np\n",
        "# !pip list"
      ]
    },
    {
      "cell_type": "markdown",
      "source": [
        "# Tensors\n",
        "* A torch. Tensor is a multi-dimensional matrix containing elements of a single data type.\n",
        "* Similar to Mumpy Arrays but work better on GPU's\n",
        "* Default data type is float 32\n",
        "* More suitable for Deep Learning than numpy array"
      ],
      "metadata": {
        "id": "17gGqxZfUgmI"
      }
    },
    {
      "cell_type": "code",
      "source": [
        "np1 =np.random.rand(3,4)\n",
        "print(np1)\n",
        "tensor_2d = torch.randn(3,4)\n",
        "print(tensor_2d)"
      ],
      "metadata": {
        "colab": {
          "base_uri": "https://localhost:8080/"
        },
        "id": "P3wxYfFeCCFK",
        "outputId": "e9719daf-61e9-4205-fa2c-fe17e976aca5"
      },
      "execution_count": 5,
      "outputs": [
        {
          "output_type": "stream",
          "name": "stdout",
          "text": [
            "[[0.48114272 0.55795585 0.36081817 0.24105977]\n",
            " [0.59890793 0.90067098 0.05022431 0.85851084]\n",
            " [0.29493922 0.42776972 0.50431674 0.87331629]]\n",
            "tensor([[-0.7676, -0.1191, -0.3618,  0.5415],\n",
            "        [-2.7378, -0.4467,  2.2242,  1.4048],\n",
            "        [ 0.9756, -0.1512, -1.5466,  0.8078]])\n"
          ]
        }
      ]
    },
    {
      "cell_type": "code",
      "source": [],
      "metadata": {
        "id": "fT6znD54CDXj"
      },
      "execution_count": 5,
      "outputs": []
    },
    {
      "cell_type": "code",
      "source": [],
      "metadata": {
        "id": "P8s54kEqF5mO"
      },
      "execution_count": 5,
      "outputs": []
    }
  ]
}